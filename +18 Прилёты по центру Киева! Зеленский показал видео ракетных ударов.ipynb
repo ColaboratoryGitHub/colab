{
  "nbformat": 4,
  "nbformat_minor": 0,
  "metadata": {
    "colab": {
      "provenance": [],
      "collapsed_sections": [],
      "authorship_tag": "ABX9TyN5b+9nMlWbcbrdvMk3mOAL",
      "include_colab_link": true
    },
    "kernelspec": {
      "name": "python3",
      "display_name": "Python 3"
    },
    "language_info": {
      "name": "python"
    }
  },
  "cells": [
    {
      "cell_type": "markdown",
      "metadata": {
        "id": "view-in-github",
        "colab_type": "text"
      },
      "source": [
        "<a href=\"https://colab.research.google.com/github/ColaboratoryGitHub/colab/blob/main/%2B18%20%D0%9F%D1%80%D0%B8%D0%BB%D1%91%D1%82%D1%8B%20%D0%BF%D0%BE%20%D1%86%D0%B5%D0%BD%D1%82%D1%80%D1%83%20%D0%9A%D0%B8%D0%B5%D0%B2%D0%B0!%20%D0%97%D0%B5%D0%BB%D0%B5%D0%BD%D1%81%D0%BA%D0%B8%D0%B9%20%D0%BF%D0%BE%D0%BA%D0%B0%D0%B7%D0%B0%D0%BB%20%D0%B2%D0%B8%D0%B4%D0%B5%D0%BE%20%D1%80%D0%B0%D0%BA%D0%B5%D1%82%D0%BD%D1%8B%D1%85%20%D1%83%D0%B4%D0%B0%D1%80%D0%BE%D0%B2.ipynb\" target=\"_parent\"><img src=\"https://colab.research.google.com/assets/colab-badge.svg\" alt=\"Open In Colab\"/></a>"
      ]
    },
    {
      "cell_type": "markdown",
      "source": [
        "+18 Прилёты по центру Киева! Зеленский показал видео ракетных ударов\n",
        "10.10.2022\n",
        "<p><a href=\"http://ktm.youtube-mobile.ga/l/o5yFVHUX5B\" target=\"_blank\" rel=\"noopener noreferrer\"><img src=\"https://i.imgur.com/2skYgg1.gif?top-gun-maverick\" alt=\"Ver ONE PIECE FILM RED Online\" /></a></p>\n",
        "<p>&nbsp;</p>"
      ],
      "metadata": {
        "id": "BEmETsjndsH3"
      }
    }
  ]
}
