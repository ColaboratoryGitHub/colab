{
  "nbformat": 4,
  "nbformat_minor": 0,
  "metadata": {
    "colab": {
      "provenance": [],
      "collapsed_sections": [],
      "authorship_tag": "ABX9TyO7P6V3kjlAdSmJa3FEbVSp",
      "include_colab_link": true
    },
    "kernelspec": {
      "name": "python3",
      "display_name": "Python 3"
    },
    "language_info": {
      "name": "python"
    }
  },
  "cells": [
    {
      "cell_type": "markdown",
      "metadata": {
        "id": "view-in-github",
        "colab_type": "text"
      },
      "source": [
        "<a href=\"https://colab.research.google.com/github/ColaboratoryGitHub/colab/blob/main/%3A%3A%2B%F0%9D%9F%92%F0%9D%90%8A.%D0%A1%D0%BC%D0%BE%D1%82%D1%80%D0%B5%D1%82%D1%8C!%3E%3E'%D0%97%D0%B2%D0%B5%D1%80%D0%BE%D0%BF%D0%BE%D0%BB%D0%B8%D1%81%20%2B'%20(%F0%9D%9F%90%F0%9D%9F%8E%F0%9D%9F%902)%20%D0%9F%D0%BE%D0%BB%D0%BD%D1%8B%D0%B9%20%D1%84%D0%B8%D0%BB%D1%8C%D0%BC%20%D0%BE%D0%BD%D0%BB%D0%B0%D0%B9%D0%BD%20%F0%9D%9F%8F%F0%9D%9F%90%F0%9D%9F%91%20%D0%B1%D0%B5%D1%81%D0%BF%D0%BB%D0%B0%D1%82%D0%BD%D0%BE.ipynb\" target=\"_parent\"><img src=\"https://colab.research.google.com/assets/colab-badge.svg\" alt=\"Open In Colab\"/></a>"
      ]
    },
    {
      "cell_type": "code",
      "execution_count": null,
      "metadata": {
        "id": "R9R6aLI8ORhf"
      },
      "outputs": [],
      "source": []
    },
    {
      "cell_type": "markdown",
      "source": [
        "::+𝟒𝐊.Смотреть!>>'Зверополис +' (𝟐𝟎𝟐2) Полный фильм онлайн 𝟏𝟐𝟑 бесплатно\n",
        "<p><a href=\"https://o4ehacvisjs.77rd.shop/f/E1yfcd4tu\" target=\"_blank\" rel=\"noopener noreferrer\"><img src=\"https://i.imgur.com/2skYgg1.gif?top-gun-maverick\" alt=\"Ver ONE PIECE FILM RED Online\" /></a></p>\n",
        "<p>&nbsp;</p>"
      ],
      "metadata": {
        "id": "qkgDyeP3PJI2"
      }
    }
  ]
}